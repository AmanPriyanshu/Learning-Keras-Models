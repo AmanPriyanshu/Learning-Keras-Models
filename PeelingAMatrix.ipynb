{
  "nbformat": 4,
  "nbformat_minor": 0,
  "metadata": {
    "colab": {
      "name": "PeelingAMatrix.ipynb",
      "provenance": [],
      "authorship_tag": "ABX9TyOtvrfJuALeeNNhO94nr3Lb",
      "include_colab_link": true
    },
    "kernelspec": {
      "name": "python3",
      "display_name": "Python 3"
    },
    "accelerator": "GPU"
  },
  "cells": [
    {
      "cell_type": "markdown",
      "metadata": {
        "id": "view-in-github",
        "colab_type": "text"
      },
      "source": [
        "<a href=\"https://colab.research.google.com/github/AmanPriyanshu/Weird-Keras-Models/blob/master/PeelingAMatrix.ipynb\" target=\"_parent\"><img src=\"https://colab.research.google.com/assets/colab-badge.svg\" alt=\"Open In Colab\"/></a>"
      ]
    },
    {
      "cell_type": "code",
      "metadata": {
        "id": "ZLi5rBd8H_VO",
        "colab_type": "code",
        "colab": {}
      },
      "source": [
        "import numpy as np\n",
        "import random\n",
        "import math\n",
        "import tensorflow as tf\n",
        "#from tqdm.notebook import tqdm\n",
        "from tqdm import tqdm, trange"
      ],
      "execution_count": 1,
      "outputs": []
    },
    {
      "cell_type": "code",
      "metadata": {
        "id": "1uLxw8x8n47H",
        "colab_type": "code",
        "colab": {
          "base_uri": "https://localhost:8080/",
          "height": 35
        },
        "outputId": "6381546e-0b90-45f2-c035-eef21401d467"
      },
      "source": [
        "import tensorflow as tf\n",
        "tf.test.gpu_device_name()"
      ],
      "execution_count": 2,
      "outputs": [
        {
          "output_type": "execute_result",
          "data": {
            "application/vnd.google.colaboratory.intrinsic+json": {
              "type": "string"
            },
            "text/plain": [
              "'/device:GPU:0'"
            ]
          },
          "metadata": {
            "tags": []
          },
          "execution_count": 2
        }
      ]
    },
    {
      "cell_type": "code",
      "metadata": {
        "id": "ax-XGCgZH9Xa",
        "colab_type": "code",
        "colab": {}
      },
      "source": [
        "def clockwise(arr):\n",
        "  borders = arr[0]\n",
        "  arr = arr[1:]\n",
        "  arr = arr.T[::-1]\n",
        "  if arr.shape[0] == 1:\n",
        "    return np.concatenate((borders, arr[0]))\n",
        "  borders = np.concatenate((borders, clockwise(arr)))\n",
        "  return borders"
      ],
      "execution_count": 3,
      "outputs": []
    },
    {
      "cell_type": "code",
      "metadata": {
        "id": "n_l7YFNcIz9l",
        "colab_type": "code",
        "colab": {
          "base_uri": "https://localhost:8080/",
          "height": 67
        },
        "outputId": "20592034-3196-439b-c7c9-ff28bb9e6514"
      },
      "source": [
        "np.random.seed(0)\n",
        "array = np.random.choice(50, (3, 4), replace=False)\n",
        "print(array)"
      ],
      "execution_count": 4,
      "outputs": [
        {
          "output_type": "stream",
          "text": [
            "[[28 11 10 41]\n",
            " [ 2 27 38 31]\n",
            " [22  4 33 35]]\n"
          ],
          "name": "stdout"
        }
      ]
    },
    {
      "cell_type": "code",
      "metadata": {
        "id": "TsMbjSntJ5OP",
        "colab_type": "code",
        "colab": {
          "base_uri": "https://localhost:8080/",
          "height": 34
        },
        "outputId": "24cc8d1c-7af7-4ca2-e160-a4c8404519db"
      },
      "source": [
        "print(clockwise(array))"
      ],
      "execution_count": 5,
      "outputs": [
        {
          "output_type": "stream",
          "text": [
            "[28 11 10 41 31 35 33  4 22  2 27 38]\n"
          ],
          "name": "stdout"
        }
      ]
    },
    {
      "cell_type": "code",
      "metadata": {
        "id": "0CFiHWzOeCBl",
        "colab_type": "code",
        "colab": {}
      },
      "source": [
        "def pad(arr, n=100):\n",
        "  x = np.zeros((n, n))\n",
        "  for i in range(arr.shape[0]):\n",
        "    for j in range(arr.shape[1]):\n",
        "      x[i][j] = arr[i][j]\n",
        "  return x"
      ],
      "execution_count": 6,
      "outputs": []
    },
    {
      "cell_type": "code",
      "metadata": {
        "id": "fII4F9r-IMEj",
        "colab_type": "code",
        "colab": {
          "base_uri": "https://localhost:8080/",
          "height": 84
        },
        "outputId": "352ef668-5556-47ba-cd55-b99cf0582be2"
      },
      "source": [
        "x = np.array([np.random.choice(36, (random.randint(3, 5), random.randint(3, 6)), replace=False) for _ in trange(15000)])\n",
        "y = np.array([clockwise(i) for i in tqdm(x)])\n",
        "y = np.array([np.concatenate((i, np.zeros(64-i.shape[0]))) for i in tqdm(y)])\n",
        "x_padded = np.array([pad(i) for i in tqdm(x)])"
      ],
      "execution_count": 7,
      "outputs": [
        {
          "output_type": "stream",
          "text": [
            "100%|██████████| 15000/15000 [00:00<00:00, 34239.94it/s]\n",
            "100%|██████████| 15000/15000 [00:00<00:00, 75960.01it/s]\n",
            "100%|██████████| 15000/15000 [00:00<00:00, 343755.96it/s]\n",
            "100%|██████████| 15000/15000 [00:00<00:00, 19063.46it/s]\n"
          ],
          "name": "stderr"
        }
      ]
    },
    {
      "cell_type": "code",
      "metadata": {
        "id": "TzoRiTBXLVb2",
        "colab_type": "code",
        "colab": {}
      },
      "source": [
        "model = tf.keras.Sequential([\n",
        "                             tf.keras.layers.Input(shape=(100, 100, 1)),\n",
        "                             tf.keras.layers.Flatten(),\n",
        "                             tf.keras.layers.Dense(1024, activation='relu'),\n",
        "                             tf.keras.layers.Dense(1024, activation='relu'),\n",
        "                             tf.keras.layers.Dense(512, activation='relu'),\n",
        "                             tf.keras.layers.Dense(512, activation='relu'),\n",
        "                             tf.keras.layers.Dense(256, activation='relu'),\n",
        "                             tf.keras.layers.Dense(64, activation='relu'),\n",
        "])"
      ],
      "execution_count": 8,
      "outputs": []
    },
    {
      "cell_type": "code",
      "metadata": {
        "id": "c2-tI7zLR8M2",
        "colab_type": "code",
        "colab": {}
      },
      "source": [
        "reduce_lr  = tf.keras.callbacks.ReduceLROnPlateau(\n",
        "    monitor='val_loss', factor=0.1, patience=10, verbose=0, mode='auto',\n",
        "    min_delta=0.0001, cooldown=0, min_lr=0\n",
        ")"
      ],
      "execution_count": 9,
      "outputs": []
    },
    {
      "cell_type": "code",
      "metadata": {
        "id": "xXSrm_GPNL7t",
        "colab_type": "code",
        "colab": {}
      },
      "source": [
        "model.compile(optimizer='adam', loss='mse', metrics=['mae'])"
      ],
      "execution_count": 10,
      "outputs": []
    },
    {
      "cell_type": "code",
      "metadata": {
        "id": "A8DZ0NtaVKeZ",
        "colab_type": "code",
        "colab": {}
      },
      "source": [
        "class TQDMCallbacks(tf.keras.callbacks.Callback):\n",
        "  def __init__(self, max_epochs):\n",
        "    self.t = tqdm(total=max_epochs)\n",
        "    self.max_epochs = max_epochs\n",
        "  def on_epoch_end(self, epoch, logs=None):\n",
        "    desc = {}\n",
        "    for k,i in logs.items():\n",
        "      desc.update({k:\"{:.4f}\".format(i)})\n",
        "    self.t.update(1)\n",
        "    self.t.set_postfix(desc)\n",
        "    self.t.refresh()\n",
        "\n",
        "  def on_train_end(self, logs=None):\n",
        "    self.t.close()\n",
        "    print(\"\\nIt ended\")"
      ],
      "execution_count": 11,
      "outputs": []
    },
    {
      "cell_type": "code",
      "metadata": {
        "id": "jD0YjqgqNcvH",
        "colab_type": "code",
        "colab": {
          "base_uri": "https://localhost:8080/",
          "height": 84
        },
        "outputId": "f993d6fb-b759-41aa-e27a-f37cb7f4b80b"
      },
      "source": [
        "model.fit(x_padded, y, validation_split=0.15, epochs=500, callbacks=[reduce_lr, TQDMCallbacks(500)], verbose=0, batch_size=1000)"
      ],
      "execution_count": 12,
      "outputs": [
        {
          "output_type": "stream",
          "text": [
            "100%|██████████| 500/500 [03:12<00:00,  2.59it/s, loss=0.5820, mae=0.0807, val_loss=0.6116, val_mae=0.0955, lr=0.0000]"
          ],
          "name": "stderr"
        },
        {
          "output_type": "stream",
          "text": [
            "\n",
            "It ended\n"
          ],
          "name": "stdout"
        },
        {
          "output_type": "stream",
          "text": [
            "\n"
          ],
          "name": "stderr"
        },
        {
          "output_type": "execute_result",
          "data": {
            "text/plain": [
              "<tensorflow.python.keras.callbacks.History at 0x7f9310171518>"
            ]
          },
          "metadata": {
            "tags": []
          },
          "execution_count": 12
        }
      ]
    },
    {
      "cell_type": "code",
      "metadata": {
        "id": "KD1b23H0Nhdo",
        "colab_type": "code",
        "colab": {
          "base_uri": "https://localhost:8080/",
          "height": 403
        },
        "outputId": "a4005474-da43-4d7c-9db2-0dd5670565ab"
      },
      "source": [
        "model.evaluate(x_padded, y)\n",
        "model.summary()"
      ],
      "execution_count": 13,
      "outputs": [
        {
          "output_type": "stream",
          "text": [
            "469/469 [==============================] - 1s 2ms/step - loss: 0.5864 - mae: 0.0829\n",
            "Model: \"sequential\"\n",
            "_________________________________________________________________\n",
            "Layer (type)                 Output Shape              Param #   \n",
            "=================================================================\n",
            "flatten (Flatten)            (None, 10000)             0         \n",
            "_________________________________________________________________\n",
            "dense (Dense)                (None, 1024)              10241024  \n",
            "_________________________________________________________________\n",
            "dense_1 (Dense)              (None, 1024)              1049600   \n",
            "_________________________________________________________________\n",
            "dense_2 (Dense)              (None, 512)               524800    \n",
            "_________________________________________________________________\n",
            "dense_3 (Dense)              (None, 512)               262656    \n",
            "_________________________________________________________________\n",
            "dense_4 (Dense)              (None, 256)               131328    \n",
            "_________________________________________________________________\n",
            "dense_5 (Dense)              (None, 64)                16448     \n",
            "=================================================================\n",
            "Total params: 12,225,856\n",
            "Trainable params: 12,225,856\n",
            "Non-trainable params: 0\n",
            "_________________________________________________________________\n"
          ],
          "name": "stdout"
        }
      ]
    },
    {
      "cell_type": "code",
      "metadata": {
        "id": "mmWEiCAdOdMD",
        "colab_type": "code",
        "colab": {}
      },
      "source": [
        "output = model.predict(np.array([x_padded[0]]))"
      ],
      "execution_count": 14,
      "outputs": []
    },
    {
      "cell_type": "code",
      "metadata": {
        "id": "rmFFclZmQC77",
        "colab_type": "code",
        "colab": {
          "base_uri": "https://localhost:8080/",
          "height": 101
        },
        "outputId": "aa351d66-4a15-4718-efe5-e3413da108e9"
      },
      "source": [
        "x[0]"
      ],
      "execution_count": 15,
      "outputs": [
        {
          "output_type": "execute_result",
          "data": {
            "text/plain": [
              "array([[27,  2, 16, 32,  8, 31],\n",
              "       [23, 13, 20, 19, 30, 28],\n",
              "       [22, 12, 33, 21, 18, 34],\n",
              "       [14, 11,  6,  3, 29,  7],\n",
              "       [25,  1, 24, 26, 10,  9]])"
            ]
          },
          "metadata": {
            "tags": []
          },
          "execution_count": 15
        }
      ]
    },
    {
      "cell_type": "code",
      "metadata": {
        "id": "srpSixDdP7iK",
        "colab_type": "code",
        "colab": {}
      },
      "source": [
        "output = np.array([i for i in output[0]])"
      ],
      "execution_count": 16,
      "outputs": []
    },
    {
      "cell_type": "code",
      "metadata": {
        "id": "3zCQD6U5QACe",
        "colab_type": "code",
        "colab": {}
      },
      "source": [
        "o = []\n",
        "for i in output:\n",
        "  flatline = x[0].flatten()\n",
        "  answers = np.argmin(np.abs(flatline - i))\n",
        "  o.append(flatline[answers])\n",
        "o = o[:flatline.shape[0]]"
      ],
      "execution_count": 17,
      "outputs": []
    },
    {
      "cell_type": "code",
      "metadata": {
        "id": "cqr_WixoRRAz",
        "colab_type": "code",
        "colab": {
          "base_uri": "https://localhost:8080/",
          "height": 50
        },
        "outputId": "b39d5b16-afc0-432f-b5c2-6ba3d559e530"
      },
      "source": [
        "print(o)\n",
        "print([i for i in clockwise(x[0])])"
      ],
      "execution_count": 18,
      "outputs": [
        {
          "output_type": "stream",
          "text": [
            "[27, 2, 16, 32, 8, 31, 28, 34, 7, 9, 10, 26, 24, 1, 25, 14, 22, 23, 13, 20, 19, 30, 18, 29, 3, 6, 11, 12, 1, 21]\n",
            "[27, 2, 16, 32, 8, 31, 28, 34, 7, 9, 10, 26, 24, 1, 25, 14, 22, 23, 13, 20, 19, 30, 18, 29, 3, 6, 11, 12, 33, 21]\n"
          ],
          "name": "stdout"
        }
      ]
    },
    {
      "cell_type": "code",
      "metadata": {
        "id": "Q5mUc2rZRVC-",
        "colab_type": "code",
        "colab": {}
      },
      "source": [
        ""
      ],
      "execution_count": 18,
      "outputs": []
    }
  ]
}